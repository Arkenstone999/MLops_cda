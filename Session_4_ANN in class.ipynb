{
 "cells": [
  {
   "cell_type": "markdown",
   "metadata": {
    "id": "ijt4HI4lqIYq"
   },
   "source": [
    "\n",
    "![BTS](https://github.com/vfp1/bts-dsf-2020/raw/main/Logo-BTS.jpg)\n",
    "\n",
    "# Session 4: Artificial Neural Networks [NOT SOLVED]\n",
    "\n",
    "\n",
    "\n",
    "**Resources:**\n",
    "* Sklearn documentation"
   ]
  },
  {
   "cell_type": "markdown",
   "metadata": {
    "id": "ETAacc6ioQrz"
   },
   "source": [
    "# Neural networks and the Breast cancer dataset\n",
    "\n",
    "We will use the Breast cancer dataset to check an application of neural networks with real-world data. Load the breast cancer dataset from sklearn and print the description. "
   ]
  },
  {
   "cell_type": "code",
   "execution_count": 11,
   "metadata": {},
   "outputs": [],
   "source": [
    "import numpy as np"
   ]
  },
  {
   "cell_type": "code",
   "execution_count": 1,
   "metadata": {
    "id": "aH3MQEBToQrz"
   },
   "outputs": [],
   "source": [
    "from sklearn.datasets import load_breast_cancer\n",
    "cancer = load_breast_cancer()"
   ]
  },
  {
   "cell_type": "code",
   "execution_count": 2,
   "metadata": {
    "colab": {
     "base_uri": "https://localhost:8080/"
    },
    "id": "2Xkt0U0loQrz",
    "outputId": "a2b7dbe9-a899-4a8a-d545-0f0287cb8790"
   },
   "outputs": [
    {
     "data": {
      "text/plain": [
       "['DESCR',\n",
       " 'data',\n",
       " 'data_module',\n",
       " 'feature_names',\n",
       " 'filename',\n",
       " 'frame',\n",
       " 'target',\n",
       " 'target_names']"
      ]
     },
     "execution_count": 2,
     "metadata": {},
     "output_type": "execute_result"
    }
   ],
   "source": [
    "dir(cancer)"
   ]
  },
  {
   "cell_type": "code",
   "execution_count": 5,
   "metadata": {
    "colab": {
     "base_uri": "https://localhost:8080/"
    },
    "id": "nwzasHBZoQr0",
    "outputId": "6d622ee7-a6d5-4304-f27b-dde8fabf8c10"
   },
   "outputs": [
    {
     "name": "stdout",
     "output_type": "stream",
     "text": [
      ".. _breast_cancer_dataset:\n",
      "\n",
      "Breast cancer wisconsin (diagnostic) dataset\n",
      "--------------------------------------------\n",
      "\n",
      "**Data Set Characteristics:**\n",
      "\n",
      ":Number of Instances: 569\n",
      "\n",
      ":Number of Attributes: 30 numeric, predictive attributes and the class\n",
      "\n",
      ":Attribute Information:\n",
      "    - radius (mean of distances from center to points on the perimeter)\n",
      "    - texture (standard deviation of gray-scale values)\n",
      "    - perimeter\n",
      "    - area\n",
      "    - smoothness (local variation in radius lengths)\n",
      "    - compactness (perimeter^2 / area - 1.0)\n",
      "    - concavity (severity of concave portions of the contour)\n",
      "    - concave points (number of concave portions of the contour)\n",
      "    - symmetry\n",
      "    - fractal dimension (\"coastline approximation\" - 1)\n",
      "\n",
      "    The mean, standard error, and \"worst\" or largest (mean of the three\n",
      "    worst/largest values) of these features were computed for each image,\n",
      "    resulting in 30 features.  For instance, field 0 is Mean Radius, field\n",
      "    10 is Radius SE, field 20 is Worst Radius.\n",
      "\n",
      "    - class:\n",
      "            - WDBC-Malignant\n",
      "            - WDBC-Benign\n",
      "\n",
      ":Summary Statistics:\n",
      "\n",
      "===================================== ====== ======\n",
      "                                        Min    Max\n",
      "===================================== ====== ======\n",
      "radius (mean):                        6.981  28.11\n",
      "texture (mean):                       9.71   39.28\n",
      "perimeter (mean):                     43.79  188.5\n",
      "area (mean):                          143.5  2501.0\n",
      "smoothness (mean):                    0.053  0.163\n",
      "compactness (mean):                   0.019  0.345\n",
      "concavity (mean):                     0.0    0.427\n",
      "concave points (mean):                0.0    0.201\n",
      "symmetry (mean):                      0.106  0.304\n",
      "fractal dimension (mean):             0.05   0.097\n",
      "radius (standard error):              0.112  2.873\n",
      "texture (standard error):             0.36   4.885\n",
      "perimeter (standard error):           0.757  21.98\n",
      "area (standard error):                6.802  542.2\n",
      "smoothness (standard error):          0.002  0.031\n",
      "compactness (standard error):         0.002  0.135\n",
      "concavity (standard error):           0.0    0.396\n",
      "concave points (standard error):      0.0    0.053\n",
      "symmetry (standard error):            0.008  0.079\n",
      "fractal dimension (standard error):   0.001  0.03\n",
      "radius (worst):                       7.93   36.04\n",
      "texture (worst):                      12.02  49.54\n",
      "perimeter (worst):                    50.41  251.2\n",
      "area (worst):                         185.2  4254.0\n",
      "smoothness (worst):                   0.071  0.223\n",
      "compactness (worst):                  0.027  1.058\n",
      "concavity (worst):                    0.0    1.252\n",
      "concave points (worst):               0.0    0.291\n",
      "symmetry (worst):                     0.156  0.664\n",
      "fractal dimension (worst):            0.055  0.208\n",
      "===================================== ====== ======\n",
      "\n",
      ":Missing Attribute Values: None\n",
      "\n",
      ":Class Distribution: 212 - Malignant, 357 - Benign\n",
      "\n",
      ":Creator:  Dr. William H. Wolberg, W. Nick Street, Olvi L. Mangasarian\n",
      "\n",
      ":Donor: Nick Street\n",
      "\n",
      ":Date: November, 1995\n",
      "\n",
      "This is a copy of UCI ML Breast Cancer Wisconsin (Diagnostic) datasets.\n",
      "https://goo.gl/U2Uwz2\n",
      "\n",
      "Features are computed from a digitized image of a fine needle\n",
      "aspirate (FNA) of a breast mass.  They describe\n",
      "characteristics of the cell nuclei present in the image.\n",
      "\n",
      "Separating plane described above was obtained using\n",
      "Multisurface Method-Tree (MSM-T) [K. P. Bennett, \"Decision Tree\n",
      "Construction Via Linear Programming.\" Proceedings of the 4th\n",
      "Midwest Artificial Intelligence and Cognitive Science Society,\n",
      "pp. 97-101, 1992], a classification method which uses linear\n",
      "programming to construct a decision tree.  Relevant features\n",
      "were selected using an exhaustive search in the space of 1-4\n",
      "features and 1-3 separating planes.\n",
      "\n",
      "The actual linear program used to obtain the separating plane\n",
      "in the 3-dimensional space is that described in:\n",
      "[K. P. Bennett and O. L. Mangasarian: \"Robust Linear\n",
      "Programming Discrimination of Two Linearly Inseparable Sets\",\n",
      "Optimization Methods and Software 1, 1992, 23-34].\n",
      "\n",
      "This database is also available through the UW CS ftp server:\n",
      "\n",
      "ftp ftp.cs.wisc.edu\n",
      "cd math-prog/cpo-dataset/machine-learn/WDBC/\n",
      "\n",
      ".. dropdown:: References\n",
      "\n",
      "  - W.N. Street, W.H. Wolberg and O.L. Mangasarian. Nuclear feature extraction\n",
      "    for breast tumor diagnosis. IS&T/SPIE 1993 International Symposium on\n",
      "    Electronic Imaging: Science and Technology, volume 1905, pages 861-870,\n",
      "    San Jose, CA, 1993.\n",
      "  - O.L. Mangasarian, W.N. Street and W.H. Wolberg. Breast cancer diagnosis and\n",
      "    prognosis via linear programming. Operations Research, 43(4), pages 570-577,\n",
      "    July-August 1995.\n",
      "  - W.H. Wolberg, W.N. Street, and O.L. Mangasarian. Machine learning techniques\n",
      "    to diagnose breast cancer from fine-needle aspirates. Cancer Letters 77 (1994)\n",
      "    163-171.\n",
      "\n"
     ]
    }
   ],
   "source": [
    "print(cancer.DESCR)"
   ]
  },
  {
   "cell_type": "markdown",
   "metadata": {
    "id": "A2HGQ0yNoQr0"
   },
   "source": [
    "Print the dataset target names, the feature names and the input shape"
   ]
  },
  {
   "cell_type": "code",
   "execution_count": 6,
   "metadata": {
    "colab": {
     "base_uri": "https://localhost:8080/"
    },
    "id": "u2gHdAO7oQr0",
    "outputId": "c4c0d7f1-941a-4aa8-a9a8-ed3b559494bd"
   },
   "outputs": [
    {
     "name": "stdout",
     "output_type": "stream",
     "text": [
      "['malignant' 'benign']\n"
     ]
    }
   ],
   "source": [
    "print(cancer.target_names)"
   ]
  },
  {
   "cell_type": "code",
   "execution_count": 7,
   "metadata": {
    "colab": {
     "base_uri": "https://localhost:8080/"
    },
    "id": "RGOV6g6ZoQr1",
    "outputId": "4e325927-d4f1-42e4-c54a-4899308145b7"
   },
   "outputs": [
    {
     "name": "stdout",
     "output_type": "stream",
     "text": [
      "['mean radius' 'mean texture' 'mean perimeter' 'mean area'\n",
      " 'mean smoothness' 'mean compactness' 'mean concavity'\n",
      " 'mean concave points' 'mean symmetry' 'mean fractal dimension'\n",
      " 'radius error' 'texture error' 'perimeter error' 'area error'\n",
      " 'smoothness error' 'compactness error' 'concavity error'\n",
      " 'concave points error' 'symmetry error' 'fractal dimension error'\n",
      " 'worst radius' 'worst texture' 'worst perimeter' 'worst area'\n",
      " 'worst smoothness' 'worst compactness' 'worst concavity'\n",
      " 'worst concave points' 'worst symmetry' 'worst fractal dimension']\n"
     ]
    }
   ],
   "source": [
    "print(cancer.feature_names)"
   ]
  },
  {
   "cell_type": "code",
   "execution_count": 8,
   "metadata": {
    "colab": {
     "base_uri": "https://localhost:8080/"
    },
    "id": "zfm7AchloQr1",
    "outputId": "18c584c2-3840-4d92-d91e-b45e548db183"
   },
   "outputs": [
    {
     "name": "stdout",
     "output_type": "stream",
     "text": [
      "(569, 30)\n"
     ]
    }
   ],
   "source": [
    "print(cancer.data.shape)"
   ]
  },
  {
   "cell_type": "markdown",
   "metadata": {
    "id": "daZvRARuoQr1"
   },
   "source": [
    "Now split he dataset in train and test with `random_state=0` and train a MLP with the default parameters and `random state=42`. After training print the accuracy on the training and the test set."
   ]
  },
  {
   "cell_type": "code",
   "execution_count": 9,
   "metadata": {},
   "outputs": [],
   "source": [
    "from sklearn.model_selection import train_test_split\n",
    "from sklearn.neural_network import MLPClassifier\n",
    "from sklearn.metrics import accuracy_score"
   ]
  },
  {
   "cell_type": "code",
   "execution_count": 10,
   "metadata": {
    "colab": {
     "base_uri": "https://localhost:8080/"
    },
    "id": "1IhYNbfdoQr1",
    "outputId": "1097dbde-088c-4e56-94d7-6d035b60ebbb"
   },
   "outputs": [
    {
     "name": "stdout",
     "output_type": "stream",
     "text": [
      "Training Accuracy: 0.9451\n",
      "Test Accuracy: 0.9474\n"
     ]
    },
    {
     "name": "stderr",
     "output_type": "stream",
     "text": [
      "c:\\bts\\CDA\\venv\\Lib\\site-packages\\sklearn\\neural_network\\_multilayer_perceptron.py:691: ConvergenceWarning: Stochastic Optimizer: Maximum iterations (200) reached and the optimization hasn't converged yet.\n",
      "  warnings.warn(\n"
     ]
    }
   ],
   "source": [
    "cancer = load_breast_cancer()\n",
    "X, y = cancer.data, cancer.target\n",
    "\n",
    "X_train, X_test, y_train, y_test = train_test_split(X, y, test_size=0.2, random_state=0)\n",
    "\n",
    "# Train MLP classifier with default parameters and random_state=42\n",
    "mlp = MLPClassifier(random_state=42)\n",
    "mlp.fit(X_train, y_train)\n",
    "\n",
    "y_train_pred = mlp.predict(X_train)\n",
    "y_test_pred = mlp.predict(X_test)\n",
    "\n",
    "train_accuracy = accuracy_score(y_train, y_train_pred)\n",
    "test_accuracy = accuracy_score(y_test, y_test_pred)\n",
    "\n",
    "# Print accuracy results\n",
    "print(f\"Training Accuracy: {train_accuracy:.4f}\")\n",
    "print(f\"Test Accuracy: {test_accuracy:.4f}\")"
   ]
  },
  {
   "cell_type": "markdown",
   "metadata": {
    "id": "Tm8Z9K-0oQr2"
   },
   "source": [
    "Now **normalize the data:** subtract the mean and divide by the standard deviation. You have to compute the mean and std on the training set, and use the same one for the test set."
   ]
  },
  {
   "cell_type": "code",
   "execution_count": 12,
   "metadata": {
    "id": "I3ifuYC4oQr2"
   },
   "outputs": [],
   "source": [
    "# Compute the mean value per feature on the training set\n",
    "mean_on_train = np.mean(X_train, axis=0)\n",
    "\n",
    "# Compute the standard deviation of each feature on the training set\n",
    "std_on_train = np.std(X_train, axis=0)\n",
    "\n",
    "# Subtract the mean, and scale by inverse standard deviation (avoid division by zero)\n",
    "X_train_scaled = (X_train - mean_on_train) / std_on_train\n",
    "\n",
    "# Use the SAME transformation (using training mean and std) on the test set\n",
    "X_test_scaled = (X_test - mean_on_train) / std_on_train"
   ]
  },
  {
   "cell_type": "code",
   "execution_count": 13,
   "metadata": {},
   "outputs": [
    {
     "name": "stdout",
     "output_type": "stream",
     "text": [
      "[1.41124989e+01 1.91528791e+01 9.18182857e+01 6.53819121e+02\n",
      " 9.64133407e-02 1.03318659e-01 8.74845356e-02 4.86900264e-02\n",
      " 1.80939121e-01 6.26680220e-02 4.02523516e-01 1.20988066e+00\n",
      " 2.82524681e+00 4.02856176e+01 7.00339341e-03 2.50632286e-02\n",
      " 3.14727859e-02 1.16463495e-02 2.05252703e-02 3.71029516e-03\n",
      " 1.62560967e+01 2.55387473e+01 1.07031407e+02 8.81189890e+02\n",
      " 1.32459231e-01 2.51861846e-01 2.67491334e-01 1.14447673e-01\n",
      " 2.90416044e-01 8.34914286e-02] [3.53148742e+00 4.15439017e+00 2.42862794e+01 3.57772373e+02\n",
      " 1.37841928e-02 5.04344575e-02 7.77159693e-02 3.85550295e-02\n",
      " 2.73677762e-02 6.81132951e-03 2.84057900e-01 5.41365325e-01\n",
      " 2.03551332e+00 4.76779413e+01 2.84053720e-03 1.74905171e-02\n",
      " 3.10715741e-02 5.89071328e-03 8.18748246e-03 2.60681955e-03\n",
      " 4.88517629e+00 6.09392372e+00 3.38319477e+01 5.85750909e+02\n",
      " 2.26008843e-02 1.52941020e-01 1.99417998e-01 6.52489952e-02\n",
      " 6.29222641e-02 1.77943460e-02]\n"
     ]
    }
   ],
   "source": [
    "print(mean_on_train, std_on_train)"
   ]
  },
  {
   "cell_type": "code",
   "execution_count": 14,
   "metadata": {},
   "outputs": [
    {
     "name": "stdout",
     "output_type": "stream",
     "text": [
      "[[-0.20175604  0.3290786  -0.13086754 ...  1.3893291   1.08203284\n",
      "   1.54029664]\n",
      " [-0.25555773  1.46763319 -0.31780437 ... -0.83369364 -0.73131577\n",
      "  -0.87732522]\n",
      " [-0.02619262 -0.8407682  -0.09175081 ... -0.49483785 -1.22080864\n",
      "  -0.92115937]\n",
      " ...\n",
      " [ 1.71811488  0.09318356  1.7286186  ...  1.57630515  0.20317063\n",
      "  -0.15406178]\n",
      " [ 1.18859296  0.34352115  1.19333694 ...  0.56019755  0.26991966\n",
      "  -0.27320074]\n",
      " [ 0.26263752 -0.58080224  0.28459338 ... -0.19383705 -1.15564888\n",
      "   0.11231497]]\n"
     ]
    }
   ],
   "source": [
    "print(X_test_scaled)"
   ]
  },
  {
   "cell_type": "markdown",
   "metadata": {
    "id": "t34E7rNSoQr2"
   },
   "source": [
    "After doing that, you can check that the mean and std has been actually set to 0 and 1."
   ]
  },
  {
   "cell_type": "code",
   "execution_count": null,
   "metadata": {
    "colab": {
     "base_uri": "https://localhost:8080/"
    },
    "id": "Xlavy8nCoQr2",
    "outputId": "b2e5730c-207d-426b-8b4d-966c79f8e9bf"
   },
   "outputs": [
    {
     "data": {
      "text/plain": [
       "array([-3.38513776e-15, -1.09510731e-15,  4.19278592e-15, -1.50427401e-15,\n",
       "       -2.20546064e-15, -3.77803227e-16,  1.13967260e-15,  4.94062277e-16,\n",
       "       -4.08906086e-15, -2.02837225e-15,  2.18395985e-16, -3.18993658e-16,\n",
       "        2.86156075e-16, -6.48933176e-17,  2.70128208e-15, -4.25976416e-16,\n",
       "        3.02053635e-16,  3.92552449e-16,  3.40624764e-16,  1.28418403e-15,\n",
       "       -7.55785627e-17, -6.51539334e-17, -1.22306964e-15, -2.65828048e-17,\n",
       "        4.43864429e-15, -1.11022913e-15, -5.05464215e-16,  1.10761687e-17,\n",
       "       -2.45083036e-15,  2.71939487e-15])"
      ]
     },
     "execution_count": 23,
     "metadata": {
      "tags": []
     },
     "output_type": "execute_result"
    }
   ],
   "source": [
    "X_train_scaled.mean(axis=0)"
   ]
  },
  {
   "cell_type": "code",
   "execution_count": null,
   "metadata": {
    "colab": {
     "base_uri": "https://localhost:8080/"
    },
    "id": "dwrZYEWMoQr3",
    "outputId": "9cb478c4-38fe-4d9f-a16f-d92ef4704144"
   },
   "outputs": [
    {
     "data": {
      "text/plain": [
       "array([1., 1., 1., 1., 1., 1., 1., 1., 1., 1., 1., 1., 1., 1., 1., 1., 1.,\n",
       "       1., 1., 1., 1., 1., 1., 1., 1., 1., 1., 1., 1., 1.])"
      ]
     },
     "execution_count": 24,
     "metadata": {
      "tags": []
     },
     "output_type": "execute_result"
    }
   ],
   "source": [
    "X_train_scaled.std(axis=0)"
   ]
  },
  {
   "cell_type": "markdown",
   "metadata": {
    "id": "hDZBUHk_oQr3"
   },
   "source": [
    "Run again the MLP on the normalized data and print the accuracy on the training and the test. Did the results improve?"
   ]
  },
  {
   "cell_type": "code",
   "execution_count": null,
   "metadata": {},
   "outputs": [
    {
     "name": "stderr",
     "output_type": "stream",
     "text": [
      "c:\\bts\\CDA\\venv\\Lib\\site-packages\\sklearn\\neural_network\\_multilayer_perceptron.py:691: ConvergenceWarning: Stochastic Optimizer: Maximum iterations (200) reached and the optimization hasn't converged yet.\n",
      "  warnings.warn(\n"
     ]
    },
    {
     "data": {
      "text/plain": [
       "(0.9956043956043956, 0.9736842105263158)"
      ]
     },
     "execution_count": 15,
     "metadata": {},
     "output_type": "execute_result"
    }
   ],
   "source": [
    "cancer = load_breast_cancer()\n",
    "X, y = cancer.data, cancer.target\n",
    "\n",
    "X_train, X_test, y_train, y_test = train_test_split(X, y, test_size=0.2, random_state=0)\n",
    "\n",
    "mean_on_train = np.mean(X_train, axis=0)\n",
    "std_on_train = np.std(X_train, axis=0)\n",
    "\n",
    "# Normalize the training and test sets using the training mean and std\n",
    "X_train_scaled = (X_train - mean_on_train) / std_on_train\n",
    "X_test_scaled = (X_test - mean_on_train) / std_on_train\n",
    "\n",
    "# Train MLP classifier with normalized data\n",
    "mlp = MLPClassifier(random_state=42)\n",
    "mlp.fit(X_train_scaled, y_train)\n",
    "\n",
    "# Predict on training and test sets\n",
    "y_train_pred = mlp.predict(X_train_scaled)\n",
    "y_test_pred = mlp.predict(X_test_scaled)\n",
    "\n",
    "# Calculate accuracy\n",
    "train_accuracy_scaled = accuracy_score(y_train, y_train_pred)\n",
    "test_accuracy_scaled = accuracy_score(y_test, y_test_pred)\n",
    "\n",
    "# Display results\n",
    "train_accuracy_scaled, test_accuracy_scaled"
   ]
  },
  {
   "cell_type": "code",
   "execution_count": null,
   "metadata": {
    "colab": {
     "base_uri": "https://localhost:8080/"
    },
    "id": "k6OkcIEBoQr3",
    "outputId": "30f1aad1-a82a-4aa0-a1c1-f7e5035e46de"
   },
   "outputs": [
    {
     "name": "stdout",
     "output_type": "stream",
     "text": [
      "Accuracy on training set: 0.993\n",
      "Accuracy on test set: 0.965\n"
     ]
    },
    {
     "name": "stderr",
     "output_type": "stream",
     "text": [
      "/usr/local/lib/python3.6/dist-packages/sklearn/neural_network/_multilayer_perceptron.py:571: ConvergenceWarning: Stochastic Optimizer: Maximum iterations (200) reached and the optimization hasn't converged yet.\n",
      "  % self.max_iter, ConvergenceWarning)\n"
     ]
    }
   ],
   "source": [
    "mlp = MLPClassifier(random_state=42)\n"
   ]
  },
  {
   "cell_type": "markdown",
   "metadata": {},
   "source": [
    "**YES, THE ACCURACY HAS INCREASED**"
   ]
  },
  {
   "cell_type": "markdown",
   "metadata": {
    "id": "wfGyuvqVoQr4"
   },
   "source": [
    "You should have a warning saying that the optimization has not converged. This usually means we should add more iterations, set `max_iter` to 1000. What are the accuracies now? "
   ]
  },
  {
   "cell_type": "code",
   "execution_count": 17,
   "metadata": {
    "colab": {
     "base_uri": "https://localhost:8080/"
    },
    "id": "tu81yasNoQr4",
    "outputId": "d7f4405d-fc37-4750-cb90-5379b6f128de"
   },
   "outputs": [],
   "source": [
    "# Train MLP classifier with increased max_iter to ensure convergence\n",
    "mlp = MLPClassifier(random_state=42, max_iter=1000)\n",
    "mlp.fit(X_train_scaled, y_train)\n",
    "\n",
    "y_train_pred = mlp.predict(X_train_scaled)\n",
    "y_test_pred = mlp.predict(X_test_scaled)\n",
    "\n",
    "# accuracy\n",
    "train_accuracy_scaled_iter = accuracy_score(y_train, y_train_pred)\n",
    "test_accuracy_scaled_iter = accuracy_score(y_test, y_test_pred)"
   ]
  },
  {
   "cell_type": "code",
   "execution_count": null,
   "metadata": {},
   "outputs": [
    {
     "data": {
      "text/plain": [
       "(0.9978021978021978, 0.9649122807017544)"
      ]
     },
     "execution_count": 18,
     "metadata": {},
     "output_type": "execute_result"
    }
   ],
   "source": [
    "train_accuracy_scaled_iter, test_accuracy_scaled_iter\n"
   ]
  },
  {
   "cell_type": "markdown",
   "metadata": {
    "id": "uOo-NF2VoQr4"
   },
   "source": [
    "Is there a way you can think of to further improve the results?"
   ]
  },
  {
   "cell_type": "markdown",
   "metadata": {},
   "source": [
    "**NOW WE HAVE AN ACCURACY OF 1**"
   ]
  },
  {
   "cell_type": "code",
   "execution_count": 22,
   "metadata": {
    "id": "QIDI_4tqvpN7"
   },
   "outputs": [
    {
     "data": {
      "text/plain": [
       "(1.0, 0.9824561403508771)"
      ]
     },
     "execution_count": 22,
     "metadata": {},
     "output_type": "execute_result"
    }
   ],
   "source": [
    "mlp_custom = MLPClassifier(hidden_layer_sizes=(200, 100), activation='tanh', solver='adam',\n",
    "                           alpha=0.001, max_iter=1500, random_state=42)\n",
    "mlp_custom.fit(X_train_scaled, y_train)\n",
    "\n",
    "y_train_pred_custom = mlp_custom.predict(X_train_scaled)\n",
    "y_test_pred_custom = mlp_custom.predict(X_test_scaled)\n",
    "\n",
    "# Calculate accuracy\n",
    "train_accuracy_custom = accuracy_score(y_train, y_train_pred_custom)\n",
    "test_accuracy_custom = accuracy_score(y_test, y_test_pred_custom)\n",
    "\n",
    "# Display results\n",
    "train_accuracy_custom, test_accuracy_custom\n"
   ]
  }
 ],
 "metadata": {
  "colab": {
   "collapsed_sections": [],
   "name": "Session_4_ANNs_NOTSOLVED.ipynb",
   "provenance": [],
   "toc_visible": true
  },
  "kernelspec": {
   "display_name": "venv",
   "language": "python",
   "name": "python3"
  },
  "language_info": {
   "codemirror_mode": {
    "name": "ipython",
    "version": 3
   },
   "file_extension": ".py",
   "mimetype": "text/x-python",
   "name": "python",
   "nbconvert_exporter": "python",
   "pygments_lexer": "ipython3",
   "version": "3.12.3"
  }
 },
 "nbformat": 4,
 "nbformat_minor": 4
}
